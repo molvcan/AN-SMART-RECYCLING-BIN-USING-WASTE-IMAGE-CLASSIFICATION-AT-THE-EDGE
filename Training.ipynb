{
 "cells": [
  {
   "cell_type": "markdown",
   "id": "ae65aed0",
   "metadata": {},
   "source": [
    "Date : 03/27/2022<br />\n",
    "Author : Xueying Li<br />\n",
    "Description : This file is used to test and evaluate the model's accuracy<br />\n",
    "Reference: I used part of code from https://github.com/mazabdul7/AtTheEdge/blob/main/Training.ipynb.<br /> "
   ]
  },
  {
   "cell_type": "code",
   "execution_count": 1,
   "id": "a3381070",
   "metadata": {
    "scrolled": true
   },
   "outputs": [],
   "source": [
    "#!/usr/bin/env python\n",
    "# coding: utf-8\n",
    "\n",
    "import numpy as np\n",
    "import tensorflow as tf\n",
    "from tensorflow import keras\n",
    "import matplotlib.pyplot as plt\n",
    "import pathlib\n",
    "from tensorflow.keras import layers\n",
    "import random\n",
    "from sklearn.metrics import confusion_matrix\n",
    "\n",
    "\n",
    "batch_size = 16\n",
    "modelCheckPointName='bestmodel95_79_224.hdf5'\n"
   ]
  },
  {
   "cell_type": "code",
   "execution_count": 2,
   "id": "082a171e",
   "metadata": {},
   "outputs": [],
   "source": [
    "def createModel(modelCheckPointName,batch_size,basemodel_img_height=224,basemodel_img_width=224):\n",
    "    #Augment training data to reduce overfitting by creating a pre-proccessing layer that only activates in training\n",
    "    data_augmentation = keras.Sequential(\n",
    "        [tf.keras.layers.RandomFlip(\"horizontal\"),tf.keras.layers.RandomFlip(\"vertical\"),tf.keras.layers.RandomRotation(0.5)]\n",
    "    )\n",
    "    #Load EfficientNet base or MobileNet with weights pre-trained on ImageNet\n",
    "    base_model =keras.applications.MobileNetV3Large(input_shape=(basemodel_img_height, basemodel_img_width, 3),include_top=False,weights='imagenet')\n",
    "    # Create new model on top\n",
    "    inputs = keras.Input(shape=(384, 512, 3))\n",
    "    # Apply random data augmentation\n",
    "    x = data_augmentation(inputs)  \n",
    "    # Resize layer to basemodel inputsize (only used in downscal=ling)\n",
    "\n",
    "    x=tf.keras.layers.Resizing(basemodel_img_width,basemodel_img_height)(x)\n",
    "    base_model.trainable = True\n",
    "    x = base_model(x, training=False)\n",
    "    x = keras.layers.GlobalAveragePooling2D()(x)\n",
    "    #There are seven class\n",
    "    outputs = keras.layers.Dense(7, activation='softmax')(x)\n",
    "    model = keras.Model(inputs, outputs)\n",
    "    model.summary()\n",
    "    model.load_weights(modelCheckPointName)\n",
    "    model.layers[3].trainable = False\n",
    "    \n",
    "    model.summary()\n",
    "    return model"
   ]
  },
  {
   "cell_type": "code",
   "execution_count": 3,
   "id": "8a42dfa0",
   "metadata": {},
   "outputs": [],
   "source": [
    "def generateTrainingData(train,batch_size):\n",
    "\n",
    "    train_ds = tf.keras.preprocessing.image_dataset_from_directory(\n",
    "      train,\n",
    "      image_size=(384,512),\n",
    "      batch_size=batch_size)\n",
    "\n",
    "    #Print number of samples\n",
    "    print(\"Number of training samples: %d\" % tf.data.experimental.cardinality(train_ds))\n",
    "    class_names = train_ds.class_names\n",
    "    train_ds = train_ds.cache().prefetch(buffer_size=10)\n",
    "    return train_ds"
   ]
  },
  {
   "cell_type": "code",
   "execution_count": 4,
   "id": "80532ac9",
   "metadata": {},
   "outputs": [],
   "source": [
    "#Import test set as images\n",
    "def testAccuracy(testDataName,label,model):\n",
    "    model=model\n",
    "    labels = [\"cardboard\", \"empty\",\"glass\",\"hand\",\"metal\", \"paper\", \"plastic\"]\n",
    "    wrongCount = 0\n",
    "    predictedLabel = []\n",
    "    correctLabel=[]\n",
    "    wrongImage = []\n",
    "    img = keras.preprocessing.image.DirectoryIterator(\n",
    "        testDataName, tf.keras.preprocessing.image.ImageDataGenerator(), target_size=(384, 512), batch_size=1,shuffle=False)\n",
    "    for index in range(len(img)):\n",
    "        predictions = model.predict(img[index][0])\n",
    "        predictedLabel.append(np.argmax(predictions))\n",
    "        for j in img[index][1]: \n",
    "            if np.argmax(predictions) != j.tolist().index(1):\n",
    "                wrongCount+=1\n",
    "                wrongImage.append(img[index])\n",
    "                plt.figure(figsize=(5,5))\n",
    "                plt.imshow(((1-img[index][0][0])*255).astype('uint8'))\n",
    "                plt.show()\n",
    "        correctLabel.append(j.tolist().index(1))\n",
    "    print(\"The test accuracy is \" + str(((len(img)-wrongCount)/len(img))*100) + \"%\")\n",
    "    cm = confusion_matrix(correctLabel,predictedLabel)\n",
    "    cm =cm/cm.sum(axis=1)\n",
    "    cm=np.mean(cm.diagonal())\n",
    "    print(\"The perclass accuracy is \" + str(cm) + \"%\")\n",
    "    return ((len(img)-wrongCount)/len(img))*100\n",
    "labels = [\"cardboard\", \"glass\",\"metal\", \"paper\", \"plastic\"]\n",
    "#wrongImage=testAccuracy(\"TOPtest_\",labels,model)\n",
    "#print(wrongImage)\n",
    "#wrongImag1e=testAccuracy(\"TOPtest2\",\"Confusion matrix (top1)\",labels,model)\n"
   ]
  },
  {
   "cell_type": "code",
   "execution_count": 18,
   "id": "8800612f",
   "metadata": {},
   "outputs": [],
   "source": [
    "def trainModel(tran_ds,model,epochs,learningrate):\n",
    "    model.compile(optimizer=keras.optimizers.Adam(learningrate),  # Low learning rate identified by lowest loss within the first 5 epochs\n",
    "        loss=\"sparse_categorical_crossentropy\" ,\n",
    "        metrics=[\"accuracy\"],\n",
    "    )\n",
    "\n",
    "    model.fit(train_ds, epochs=epochs)\n",
    "    return model"
   ]
  },
  {
   "cell_type": "code",
   "execution_count": 28,
   "id": "40ba1dca",
   "metadata": {},
   "outputs": [],
   "source": [
    "def plotAccuracy(n_accuracy,o_accuracy):\n",
    "    plt.plot(list(range(33)),n_accuracy,label=\"new data test acccuracy\",marker=\".\")\n",
    "    plt.plot(list(range(33)),o_accuracy,label=\"old data test acccuracy\",marker=\".\")\n",
    "    plt.xlabel(\"epochs\")\n",
    "    plt.ylabel(\"Accuracy\")\n",
    "    plt.grid()\n",
    "    plt.legend()\n",
    "    plt.title(\"Accuracy on new data and original data\")\n",
    "    plt.show"
   ]
  },
  {
   "cell_type": "code",
   "execution_count": 43,
   "id": "d9f77b3a",
   "metadata": {},
   "outputs": [
    {
     "name": "stderr",
     "output_type": "stream",
     "text": [
      "[NbConvertApp] Converting notebook learning.ipynb to python\n",
      "[NbConvertApp] Writing 10163 bytes to learning.py\n"
     ]
    }
   ],
   "source": [
    "!jupyter nbconvert --to python learning.ipynb"
   ]
  },
  {
   "cell_type": "code",
   "execution_count": 25,
   "id": "c5c8d719",
   "metadata": {},
   "outputs": [],
   "source": [
    "from sklearn.metrics import confusion_matrix\n",
    "def cm(correctLabel,predictedLabel,titleName,labels=[\"cardboard\", \"glass\",\"metal\", \"paper\", \"plastic\"]):\n",
    "    confusionmatrix = confusion_matrix(correctLabel,predictedLabel)\n",
    "    cm= []\n",
    "    cm = confusionmatrix/confusionmatrix.sum(axis=1)\n",
    "    print(cm)\n",
    "    cm=np.mean(cm.diagonal())\n",
    "    print(cm)\n",
    "    # Make the confusion matrix plot\n",
    "    fig, axes = plt.subplots()\n",
    "    axes.imshow(confusionmatrix, interpolation='nearest', cmap = plt.cm.GnBu)\n",
    "    axes.set_title(titleName)\n",
    "    n = np.array(range(len(labels)))\n",
    "    axes.set_yticks(n)\n",
    "    axes.set_yticklabels(labels)\n",
    "    axes.set_xticks(n)\n",
    "    axes.set_xticklabels(labels, rotation=45)\n",
    "    # \n",
    "    threshold = confusionmatrix.max() / 2. \n",
    "    for i in range(len(confusionmatrix)):\n",
    "        for j in range(len(confusionmatrix[0])):\n",
    "            axes.text(j, i, format(confusionmatrix[i, j], 'd'),horizontalalignment = 'center', \n",
    "                                   color = 'white' if confusionmatrix[i, j] > threshold else \"black\")\n",
    "        axes.set_ylabel('True label')\n",
    "        axes.set_xlabel('Predicted label')\n"
   ]
  },
  {
   "cell_type": "code",
   "execution_count": 54,
   "id": "98936d18",
   "metadata": {},
   "outputs": [
    {
     "name": "stdout",
     "output_type": "stream",
     "text": [
      "Model: \"model\"\n",
      "_________________________________________________________________\n",
      " Layer (type)                Output Shape              Param #   \n",
      "=================================================================\n",
      " input_2 (InputLayer)        [(None, 384, 512, 3)]     0         \n",
      "                                                                 \n",
      " resizing (Resizing)         (None, 224, 224, 3)       0         \n",
      "                                                                 \n",
      " MobilenetV3large (Functiona  (None, 7, 7, 960)        2996352   \n",
      " l)                                                              \n",
      "                                                                 \n",
      " global_average_pooling2d (G  (None, 960)              0         \n",
      " lobalAveragePooling2D)                                          \n",
      "                                                                 \n",
      " dense (Dense)               (None, 7)                 6727      \n",
      "                                                                 \n",
      "=================================================================\n",
      "Total params: 3,003,079\n",
      "Trainable params: 2,978,679\n",
      "Non-trainable params: 24,400\n",
      "_________________________________________________________________\n"
     ]
    }
   ],
   "source": [
    "model.summary()"
   ]
  }
 ],
 "metadata": {
  "kernelspec": {
   "display_name": "Python 3 (ipykernel)",
   "language": "python",
   "name": "python3"
  },
  "language_info": {
   "codemirror_mode": {
    "name": "ipython",
    "version": 3
   },
   "file_extension": ".py",
   "mimetype": "text/x-python",
   "name": "python",
   "nbconvert_exporter": "python",
   "pygments_lexer": "ipython3",
   "version": "3.9.7"
  }
 },
 "nbformat": 4,
 "nbformat_minor": 5
}
